{
 "cells": [
  {
   "cell_type": "markdown",
   "metadata": {},
   "source": [
    "# Scope\n",
    "\n",
    "The dataset provided _all_data.csv_ has the following columns of data:\n",
    "* Country - nation, for six countries (Chile, China, Germany, Mexico, USA, Zimbabwe)\n",
    "* Year - the year for the observation\n",
    "* Life expectancy at birth (years) - life expectancy value in years\n",
    "* GDP - Gross Domestic Product in U.S. dollars\n",
    "\n",
    "I will aim to visualize the following statistics:\n",
    "* Life expectancy per country per year\n",
    "* GDP per country per year  \n",
    "Preferrably these two will be displayed on the same axes\n",
    "* Life expectancy vs GDP + per year, for each of the six countries  \n",
    "These will be painted as six graphs, one for each country\n"
   ]
  },
  {
   "cell_type": "code",
   "execution_count": 2,
   "metadata": {},
   "outputs": [],
   "source": [
    "# import libraries\n",
    "import pandas as pd \n",
    "import matplotlib.pyplot as plt\n",
    "import seaborn as sns\n"
   ]
  },
  {
   "cell_type": "code",
   "execution_count": 7,
   "metadata": {},
   "outputs": [
    {
     "name": "stdout",
     "output_type": "stream",
     "text": [
      "  Country  Year  Life expectancy at birth (years)           GDP\n",
      "0   Chile  2000                              77.3  7.786093e+10\n",
      "1   Chile  2001                              77.3  7.097992e+10\n",
      "2   Chile  2002                              77.8  6.973681e+10\n",
      "3   Chile  2003                              77.9  7.564346e+10\n",
      "4   Chile  2004                              78.0  9.921039e+10\n",
      "  Country  Year  Life_expectancy           GDP\n",
      "0   Chile  2000             77.3  7.786093e+10\n",
      "1   Chile  2001             77.3  7.097992e+10\n",
      "2   Chile  2002             77.8  6.973681e+10\n",
      "3   Chile  2003             77.9  7.564346e+10\n",
      "4   Chile  2004             78.0  9.921039e+10\n"
     ]
    }
   ],
   "source": [
    "# Read the dataset into a dataframe\n",
    "df_all = pd.read_csv('all_data.csv') \n",
    "# Examine a few data rows\n",
    "print(df_all.head())\n",
    "# Rename some columns\n",
    "df_all = df_all.rename(columns={'Life expectancy at birth (years)': 'Life_expectancy'})\n",
    "print(df_all.head())"
   ]
  }
 ],
 "metadata": {
  "kernelspec": {
   "display_name": "Python 3",
   "language": "python",
   "name": "python3"
  },
  "language_info": {
   "codemirror_mode": {
    "name": "ipython",
    "version": 3
   },
   "file_extension": ".py",
   "mimetype": "text/x-python",
   "name": "python",
   "nbconvert_exporter": "python",
   "pygments_lexer": "ipython3",
   "version": "3.12.8"
  }
 },
 "nbformat": 4,
 "nbformat_minor": 4
}
