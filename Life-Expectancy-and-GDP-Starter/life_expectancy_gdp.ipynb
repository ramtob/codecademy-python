{
 "cells": [
  {
   "cell_type": "markdown",
   "metadata": {},
   "source": [
    "# Scope\n",
    "\n",
    "The dataset provided _all_data.csv_ has the following columns of data:\n",
    "* Country - nation, for six countries (Chile, China, Germany, Mexico, USA, Zimbabwe)\n",
    "* Year - the year for the observation\n",
    "* Life expectancy at birth (years) - life expectancy value in years\n",
    "* GDP - Gross Domestic Product in U.S. dollars\n",
    "\n",
    "I will aim to visualize the following statistics:\n",
    "* Life expectancy per country per year\n",
    "* GDP per country per year  \n",
    "Preferrably these two will be displayed on the same axes\n",
    "* Life expectancy vs GDP + per year, for each of the six countries  \n",
    "These will be painted as six graphs, one for each country\n"
   ]
  },
  {
   "cell_type": "code",
   "execution_count": null,
   "metadata": {},
   "outputs": [],
   "source": []
  }
 ],
 "metadata": {
  "kernelspec": {
   "display_name": "Python 3",
   "language": "python",
   "name": "python3"
  },
  "language_info": {
   "codemirror_mode": {
    "name": "ipython",
    "version": 3
   },
   "file_extension": ".py",
   "mimetype": "text/x-python",
   "name": "python",
   "nbconvert_exporter": "python",
   "pygments_lexer": "ipython3",
   "version": "3.7.6"
  }
 },
 "nbformat": 4,
 "nbformat_minor": 4
}
