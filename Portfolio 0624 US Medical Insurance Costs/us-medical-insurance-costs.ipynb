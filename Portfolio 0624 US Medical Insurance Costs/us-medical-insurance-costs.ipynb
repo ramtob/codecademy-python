{
 "cells": [
  {
   "cell_type": "markdown",
   "metadata": {},
   "source": [
    "# U.S. Medical Insurance Costs"
   ]
  },
  {
   "cell_type": "markdown",
   "metadata": {},
   "source": [
    "### Plan\n",
    "\n",
    "Perform simple correlations of the Smoker variable with each of the other variables in the Medical Insurance dataset."
   ]
  },
  {
   "cell_type": "markdown",
   "metadata": {},
   "source": [
    "### Loading dataset"
   ]
  },
  {
   "cell_type": "code",
   "execution_count": 5,
   "metadata": {},
   "outputs": [
    {
     "name": "stdout",
     "output_type": "stream",
     "text": [
      "Dataset size = 1338\n",
      "The records look like this one\n"
     ]
    },
    {
     "data": {
      "text/plain": [
       "[{'age': 19.0,\n",
       "  'sex': 'female',\n",
       "  'bmi': 27.9,\n",
       "  'children': 0.0,\n",
       "  'smoker': 'yes',\n",
       "  'region': 'southwest',\n",
       "  'charges': 16884.924}]"
      ]
     },
     "execution_count": 5,
     "metadata": {},
     "output_type": "execute_result"
    }
   ],
   "source": [
    "import csv\n",
    "medical_insurance_data = []\n",
    "with open('insurance.csv', newline='') as csvfile:\n",
    "    reader = csv.DictReader(csvfile)\n",
    "    for row in reader:\n",
    "        fixed_row = { key:(float(value) if value[0].isnumeric() else value) for key, value in row.items() }\n",
    "        medical_insurance_data.append(fixed_row)\n",
    "dataset_size = len(medical_insurance_data)\n",
    "print('Dataset size = {}'.format(dataset_size))\n",
    "print('The records look like this one')\n",
    "medical_insurance_data[:1]"
   ]
  },
  {
   "cell_type": "markdown",
   "metadata": {},
   "source": [
    "### Common functions"
   ]
  },
  {
   "cell_type": "code",
   "execution_count": 18,
   "metadata": {},
   "outputs": [],
   "source": [
    "# Get the average value of a given numercal column in the dataset\n",
    "def get_average_for_column(column_name):\n",
    "    sum = 0\n",
    "    for record in medical_insurance_data:\n",
    "        sum += record[column_name]\n",
    "    return sum / dataset_size\n",
    "\n",
    "# For a binary (two values) column, determine how the dataset is divided among the two values\n",
    "def get_binary_value_percentage(column_name, value):\n",
    "    count = 0\n",
    "    for record in medical_insurance_data:\n",
    "        if record[column_name] == value:\n",
    "            count += 1\n",
    "    return 100 * count / dataset_size\n",
    "\n",
    "def is_smoker(medical_record):\n",
    "    return medical_record['smoker'] == 'yes'\n",
    "\n",
    "# Get the average value of a given numercal column in the dataset - for the smokers\n",
    "def get_field_average_for_smokers(numeric_field_name):\n",
    "    smoker_values = []\n",
    "    non_smoker_values = []\n",
    "    for record in medical_insurance_data:\n",
    "        numeric_value = record[numeric_field_name]\n",
    "        if is_smoker(record):\n",
    "            smoker_values.append(numeric_value)\n",
    "        else:\n",
    "            non_smoker_values.append(numeric_value)\n",
    "    return sum(smoker_values) / len(smoker_values), sum(non_smoker_values) / len(non_smoker_values)\n",
    "\n",
    "# For a binary (two values) column, determine how the smokers are divided among the two values\n",
    "def get_binary_value_percentage_for_smokers(column_name, value):\n",
    "    count_smokers = 0\n",
    "    count_positives = 0\n",
    "    for record in medical_insurance_data:\n",
    "        if is_smoker(record):\n",
    "            count_smokers += 1\n",
    "            if record[column_name] == value:\n",
    "                count_positives += 1\n",
    "    return 100 * count_positives / count_smokers\n",
    "\n",
    "# For a given categorical variable, return a dictionary with the percentage of people in the dataset for each value\n",
    "# of the variable that actually occurs in the dataset.\n",
    "# We can also pass a condition field name and a conditions value. Then the function will return the distribution of the \n",
    "# categorical variable among the records for which the condition field has the condition value. E.g when record['smoker'] == 'yes'\n",
    "def get_percentages_for_categorial_field(field_name, condition_field = None, condition_value = None):\n",
    "    result = {}\n",
    "    count = 0\n",
    "    for record in medical_insurance_data:\n",
    "        if condition_field == None or record[condition_field] == condition_value:\n",
    "            count += 1\n",
    "            value = record[field_name]\n",
    "            if value in result:\n",
    "                result[value] += 1\n",
    "            else:\n",
    "                result[value] = 1\n",
    "    for value in result:\n",
    "        result[value] *= 100 / count\n",
    "    return result\n"
   ]
  },
  {
   "cell_type": "markdown",
   "metadata": {},
   "source": [
    "### The smoker variable"
   ]
  },
  {
   "cell_type": "code",
   "execution_count": 7,
   "metadata": {},
   "outputs": [
    {
     "data": {
      "text/plain": [
       "'20.48% of the people in the dataset are smokers'"
      ]
     },
     "execution_count": 7,
     "metadata": {},
     "output_type": "execute_result"
    }
   ],
   "source": [
    "'{:.2f}% of the people in the dataset are smokers'.format(get_binary_value_percentage('smoker', 'yes'))"
   ]
  },
  {
   "cell_type": "markdown",
   "metadata": {},
   "source": [
    "### Smokers and age"
   ]
  },
  {
   "cell_type": "code",
   "execution_count": 8,
   "metadata": {},
   "outputs": [
    {
     "name": "stdout",
     "output_type": "stream",
     "text": [
      "The average age in the dataset is 39.21\n"
     ]
    },
    {
     "data": {
      "text/plain": [
       "'The average age in the dataset for smokers is 38.51, for non-smokers 39.39'"
      ]
     },
     "execution_count": 8,
     "metadata": {},
     "output_type": "execute_result"
    }
   ],
   "source": [
    "print('The average age in the dataset is {:.2f}'.format(get_average_for_column('age')))\n",
    "\n",
    "average1, average2 = get_field_average_for_smokers('age')\n",
    "'The average age in the dataset for smokers is {:.2f}, for non-smokers {:.2f}'.format(average1, average2)"
   ]
  },
  {
   "cell_type": "markdown",
   "metadata": {},
   "source": [
    "### Smokers and sex"
   ]
  },
  {
   "cell_type": "code",
   "execution_count": 9,
   "metadata": {},
   "outputs": [
    {
     "name": "stdout",
     "output_type": "stream",
     "text": [
      "49.48% of the people in the dataset are females\n"
     ]
    },
    {
     "data": {
      "text/plain": [
       "'41.97% of the smokers in the dataset are females'"
      ]
     },
     "execution_count": 9,
     "metadata": {},
     "output_type": "execute_result"
    }
   ],
   "source": [
    "print('{:.2f}% of the people in the dataset are females'.format(get_binary_value_percentage('sex', 'female')))\n",
    "\n",
    "'{:.2f}% of the smokers in the dataset are females'.format(get_binary_value_percentage_for_smokers('sex', 'female'))"
   ]
  },
  {
   "cell_type": "markdown",
   "metadata": {},
   "source": [
    "### Smokers and BMI"
   ]
  },
  {
   "cell_type": "code",
   "execution_count": 10,
   "metadata": {},
   "outputs": [
    {
     "name": "stdout",
     "output_type": "stream",
     "text": [
      "The average BMI in the dataset is 30.66\n"
     ]
    },
    {
     "data": {
      "text/plain": [
       "'The average BMI in the dataset for smokers is 30.71, for non-smokers 30.65'"
      ]
     },
     "execution_count": 10,
     "metadata": {},
     "output_type": "execute_result"
    }
   ],
   "source": [
    "print('The average BMI in the dataset is {:.2f}'.format(get_average_for_column('bmi')))\n",
    "\n",
    "average1, average2 = get_field_average_for_smokers('bmi')\n",
    "'The average BMI in the dataset for smokers is {:.2f}, for non-smokers {:.2f}'.format(average1, average2)"
   ]
  },
  {
   "cell_type": "markdown",
   "metadata": {},
   "source": [
    "### Smokers and children"
   ]
  },
  {
   "cell_type": "code",
   "execution_count": 11,
   "metadata": {},
   "outputs": [
    {
     "name": "stdout",
     "output_type": "stream",
     "text": [
      "The average number of children for people in the dataset is 1.09\n"
     ]
    },
    {
     "data": {
      "text/plain": [
       "'The average number of children for smokers in the dataset is 1.11, for non-smokers 1.09'"
      ]
     },
     "execution_count": 11,
     "metadata": {},
     "output_type": "execute_result"
    }
   ],
   "source": [
    "print('The average number of children for people in the dataset is {:.2f}'.format(get_average_for_column('children')))\n",
    "\n",
    "average1, average2 = get_field_average_for_smokers('children')\n",
    "'The average number of children for smokers in the dataset is {:.2f}, for non-smokers {:.2f}'.format(average1, average2)"
   ]
  },
  {
   "cell_type": "markdown",
   "metadata": {},
   "source": [
    "### Smokers and region"
   ]
  },
  {
   "cell_type": "code",
   "execution_count": 20,
   "metadata": {},
   "outputs": [
    {
     "name": "stdout",
     "output_type": "stream",
     "text": [
      "Percentages for regions for people in the datasete:\n",
      "{'southwest': 24.28998505231689, 'southeast': 27.20478325859492, 'northwest': 24.28998505231689, 'northeast': 24.2152466367713}\n",
      "Percentages for regions for smokers in the datasete:\n",
      "{'southwest': 21.16788321167883, 'southeast': 33.21167883211679, 'northeast': 24.452554744525546, 'northwest': 21.16788321167883}\n"
     ]
    }
   ],
   "source": [
    "print('Percentages for regions for people in the datasete:')\n",
    "print(get_percentages_for_categorial_field('region'))\n",
    "\n",
    "print('Percentages for regions for smokers in the datasete:')\n",
    "print(get_percentages_for_categorial_field('region', 'smoker', 'yes'))"
   ]
  },
  {
   "cell_type": "markdown",
   "metadata": {},
   "source": [
    "### Smokers and charges"
   ]
  },
  {
   "cell_type": "code",
   "execution_count": 21,
   "metadata": {},
   "outputs": [
    {
     "name": "stdout",
     "output_type": "stream",
     "text": [
      "The average charges for people in the dataset is 13270.42\n"
     ]
    },
    {
     "data": {
      "text/plain": [
       "'The average charges for smokers in the dataset for smokers is 32050.23, for non-smokers 8434.27'"
      ]
     },
     "execution_count": 21,
     "metadata": {},
     "output_type": "execute_result"
    }
   ],
   "source": [
    "print('The average charges for people in the dataset is {:.2f}'.format(get_average_for_column('charges')))\n",
    "\n",
    "average1, average2 = get_field_average_for_smokers('charges')\n",
    "'The average charges for smokers in the dataset for smokers is {:.2f}, for non-smokers {:.2f}'.format(average1, average2)"
   ]
  },
  {
   "cell_type": "markdown",
   "metadata": {},
   "source": [
    "### Summary\n",
    "\n",
    "About 20.5% of the people is the dataset are smokers.\n",
    "\n",
    "In the dataset, the average age is similar for smokers and non-smokers.\n",
    "\n",
    "In the dataset about 50% are women. \n",
    "Among smokers in the dataset, only 42% are women.  \n",
    "We may hypothesize that there are more male smokers than women.\n",
    "\n",
    "In the dataset, the average BMI is similar for smokers and non-smokers.\n",
    "\n",
    "In the dataset, the average no. of children is similar for smokers and non-smokers.\n",
    "\n",
    "In the dataset, 24% of the people are from US southwest, 27% from US southeast, 24% from US northeast.  \n",
    "Among the smokers, 21% of the people are from US southwest, 33% from US southeast, 21% from  US northeast.  \n",
    "We may hypothesize that there are more smokers in the US southeast than in other US regions.\n",
    "\n",
    "In the dataset, the average medical charges are about $13270.  \n",
    "for smokers, the average medical charges are about $32050.  \n",
    "So the medical charges seem to be significantly higher for smokers.\n"
   ]
  }
 ],
 "metadata": {
  "kernelspec": {
   "display_name": "Python 3",
   "language": "python",
   "name": "python3"
  },
  "language_info": {
   "codemirror_mode": {
    "name": "ipython",
    "version": 3
   },
   "file_extension": ".py",
   "mimetype": "text/x-python",
   "name": "python",
   "nbconvert_exporter": "python",
   "pygments_lexer": "ipython3",
   "version": "3.12.8"
  }
 },
 "nbformat": 4,
 "nbformat_minor": 4
}
