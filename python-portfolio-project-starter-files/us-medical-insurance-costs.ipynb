{
 "cells": [
  {
   "cell_type": "markdown",
   "metadata": {},
   "source": [
    "# U.S. Medical Insurance Costs"
   ]
  },
  {
   "cell_type": "markdown",
   "metadata": {},
   "source": [
    "### Plan\n",
    "\n",
    "Perform simple correlations of the Smoker variable with each of the other variables in the Medical Insurance dataset."
   ]
  },
  {
   "cell_type": "markdown",
   "metadata": {},
   "source": [
    "### Loading dataset"
   ]
  },
  {
   "cell_type": "code",
   "execution_count": 1,
   "metadata": {},
   "outputs": [
    {
     "name": "stdout",
     "output_type": "stream",
     "text": [
      "Dataset size = 1338\n",
      "The records look like this one\n"
     ]
    },
    {
     "data": {
      "text/plain": [
       "[{'age': 19.0,\n",
       "  'sex': 'female',\n",
       "  'bmi': 27.9,\n",
       "  'children': 0.0,\n",
       "  'smoker': 'yes',\n",
       "  'region': 'southwest',\n",
       "  'charges': 16884.924}]"
      ]
     },
     "execution_count": 1,
     "metadata": {},
     "output_type": "execute_result"
    }
   ],
   "source": [
    "import csv\n",
    "medical_insurance_data = []\n",
    "with open('insurance.csv', newline='') as csvfile:\n",
    "    reader = csv.DictReader(csvfile)\n",
    "    for row in reader:\n",
    "        fixed_row = { key:(float(value) if value[0].isnumeric() else value) for key, value in row.items() }\n",
    "        medical_insurance_data.append(fixed_row)\n",
    "dataset_size = len(medical_insurance_data)\n",
    "print('Dataset size = {}'.format(dataset_size))\n",
    "print('The records look like this one')\n",
    "medical_insurance_data[:1]"
   ]
  },
  {
   "cell_type": "markdown",
   "metadata": {},
   "source": [
    "### Common functions"
   ]
  },
  {
   "cell_type": "code",
   "execution_count": 2,
   "metadata": {},
   "outputs": [],
   "source": [
    "def get_average_for_column(column_name):\n",
    "    sum = 0\n",
    "    for record in medical_insurance_data:\n",
    "        sum += record[column_name]\n",
    "    return sum / dataset_size\n",
    "\n",
    "def get_binary_value_percentage(column_name, value):\n",
    "    count = 0\n",
    "    for record in medical_insurance_data:\n",
    "        if record[column_name] == value:\n",
    "            count += 1\n",
    "    return 100 * count / dataset_size\n",
    "\n",
    "def is_smoker(medical_record):\n",
    "    return medical_record['smoker'] == 'yes'\n",
    "\n",
    "def get_field_average_for_smokers(numeric_field_name):\n",
    "    smoker_values = []\n",
    "    non_smoker_values = []\n",
    "    for record in medical_insurance_data:\n",
    "        numeric_value = record[numeric_field_name]\n",
    "        if is_smoker(record):\n",
    "            smoker_values.append(numeric_value)\n",
    "        else:\n",
    "            non_smoker_values.append(numeric_value)\n",
    "    return sum(smoker_values) / len(smoker_values), sum(non_smoker_values) / len(non_smoker_values)\n",
    "\n",
    "def get_binary_value_percentage_for_smokers(column_name, value):\n",
    "    count_smokers = 0\n",
    "    count_positives = 0\n",
    "    for record in medical_insurance_data:\n",
    "        if is_smoker(record):\n",
    "            count_smokers += 1\n",
    "            if record[column_name] == value:\n",
    "                count_positives += 1\n",
    "    return 100 * count_positives / count_smokers\n"
   ]
  },
  {
   "cell_type": "markdown",
   "metadata": {},
   "source": [
    "### The smoker variable"
   ]
  },
  {
   "cell_type": "code",
   "execution_count": 3,
   "metadata": {},
   "outputs": [
    {
     "data": {
      "text/plain": [
       "'20.48% of the people in the dataset are smokers'"
      ]
     },
     "execution_count": 3,
     "metadata": {},
     "output_type": "execute_result"
    }
   ],
   "source": [
    "'{:.2f}% of the people in the dataset are smokers'.format(get_binary_value_percentage('smoker', 'yes'))"
   ]
  },
  {
   "cell_type": "markdown",
   "metadata": {},
   "source": [
    "### Smokers and age"
   ]
  },
  {
   "cell_type": "code",
   "execution_count": 10,
   "metadata": {},
   "outputs": [
    {
     "name": "stdout",
     "output_type": "stream",
     "text": [
      "The average age in the dataset is 39.21\n"
     ]
    },
    {
     "data": {
      "text/plain": [
       "'The average age in the dataset for smokers is 38.51, for non-smokers 39.39'"
      ]
     },
     "execution_count": 10,
     "metadata": {},
     "output_type": "execute_result"
    }
   ],
   "source": [
    "print('The average age in the dataset is {:.2f}'.format(get_average_for_column('age')))\n",
    "\n",
    "average1, average2 = get_field_average_for_smokers('age')\n",
    "'The average age in the dataset for smokers is {:.2f}, for non-smokers {:.2f}'.format(average1, average2)"
   ]
  },
  {
   "cell_type": "markdown",
   "metadata": {},
   "source": [
    "### Smokers and sex"
   ]
  },
  {
   "cell_type": "code",
   "execution_count": 11,
   "metadata": {},
   "outputs": [
    {
     "name": "stdout",
     "output_type": "stream",
     "text": [
      "49.48% of the people in the dataset are females\n"
     ]
    },
    {
     "data": {
      "text/plain": [
       "'41.97% of the smokers in the dataset are females'"
      ]
     },
     "execution_count": 11,
     "metadata": {},
     "output_type": "execute_result"
    }
   ],
   "source": [
    "print('{:.2f}% of the people in the dataset are females'.format(get_binary_value_percentage('sex', 'female')))\n",
    "\n",
    "'{:.2f}% of the smokers in the dataset are females'.format(get_binary_value_percentage_for_smokers('sex', 'female'))"
   ]
  },
  {
   "cell_type": "markdown",
   "metadata": {},
   "source": [
    "### Smokers and BMI"
   ]
  },
  {
   "cell_type": "code",
   "execution_count": 13,
   "metadata": {},
   "outputs": [
    {
     "name": "stdout",
     "output_type": "stream",
     "text": [
      "The average BMI in the dataset is 30.66\n"
     ]
    },
    {
     "data": {
      "text/plain": [
       "'The average BMI in the dataset for smokers is 30.71, for non-smokers 30.65'"
      ]
     },
     "execution_count": 13,
     "metadata": {},
     "output_type": "execute_result"
    }
   ],
   "source": [
    "print('The average BMI in the dataset is {:.2f}'.format(get_average_for_column('bmi')))\n",
    "\n",
    "average1, average2 = get_field_average_for_smokers('bmi')\n",
    "'The average BMI in the dataset for smokers is {:.2f}, for non-smokers {:.2f}'.format(average1, average2)"
   ]
  },
  {
   "cell_type": "markdown",
   "metadata": {},
   "source": [
    "### Playground"
   ]
  },
  {
   "cell_type": "code",
   "execution_count": 8,
   "metadata": {},
   "outputs": [
    {
     "name": "stdout",
     "output_type": "stream",
     "text": [
      "False\n",
      "False\n",
      "False\n"
     ]
    },
    {
     "ename": "TypeError",
     "evalue": "float expected at most 1 argument, got 2",
     "output_type": "error",
     "traceback": [
      "\u001b[1;31m---------------------------------------------------------------------------\u001b[0m",
      "\u001b[1;31mTypeError\u001b[0m                                 Traceback (most recent call last)",
      "Cell \u001b[1;32mIn[8], line 4\u001b[0m\n\u001b[0;32m      2\u001b[0m \u001b[38;5;28mprint\u001b[39m(\u001b[38;5;124m'\u001b[39m\u001b[38;5;124m11.2\u001b[39m\u001b[38;5;124m'\u001b[39m\u001b[38;5;241m.\u001b[39misdigit())\n\u001b[0;32m      3\u001b[0m \u001b[38;5;28mprint\u001b[39m(\u001b[38;5;124m'\u001b[39m\u001b[38;5;124m11.2\u001b[39m\u001b[38;5;124m'\u001b[39m\u001b[38;5;241m.\u001b[39misnumeric())\n\u001b[1;32m----> 4\u001b[0m \u001b[38;5;28;43mfloat\u001b[39;49m\u001b[43m(\u001b[49m\u001b[38;5;124;43m'\u001b[39;49m\u001b[38;5;124;43m11.2a\u001b[39;49m\u001b[38;5;124;43m'\u001b[39;49m\u001b[43m,\u001b[49m\u001b[43m \u001b[49m\u001b[38;5;241;43m0.0\u001b[39;49m\u001b[43m)\u001b[49m\n",
      "\u001b[1;31mTypeError\u001b[0m: float expected at most 1 argument, got 2"
     ]
    }
   ],
   "source": [
    "# print('11.2'.isdecimal())\n",
    "# print('11.2'.isdigit())\n",
    "# print('11.2'.isnumeric())\n",
    "# float('11.2a', 0.0)\n"
   ]
  }
 ],
 "metadata": {
  "kernelspec": {
   "display_name": "Python 3",
   "language": "python",
   "name": "python3"
  },
  "language_info": {
   "codemirror_mode": {
    "name": "ipython",
    "version": 3
   },
   "file_extension": ".py",
   "mimetype": "text/x-python",
   "name": "python",
   "nbconvert_exporter": "python",
   "pygments_lexer": "ipython3",
   "version": "3.12.3"
  }
 },
 "nbformat": 4,
 "nbformat_minor": 4
}
