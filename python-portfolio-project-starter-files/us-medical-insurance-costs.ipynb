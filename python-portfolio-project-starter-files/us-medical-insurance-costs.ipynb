{
 "cells": [
  {
   "cell_type": "markdown",
   "metadata": {},
   "source": [
    "# U.S. Medical Insurance Costs"
   ]
  },
  {
   "cell_type": "markdown",
   "metadata": {},
   "source": [
    "### Plan\n",
    "\n",
    "Perform simple correlations of the Smoker variable with each of the other variables in the Medical Insurance dataset."
   ]
  },
  {
   "cell_type": "markdown",
   "metadata": {},
   "source": [
    "### Loading dataset"
   ]
  },
  {
   "cell_type": "code",
   "execution_count": 29,
   "metadata": {},
   "outputs": [
    {
     "name": "stdout",
     "output_type": "stream",
     "text": [
      "Dataset size = 1338\n",
      "The records look like this one\n"
     ]
    },
    {
     "data": {
      "text/plain": [
       "[{'age': 19.0,\n",
       "  'sex': 'female',\n",
       "  'bmi': 27.9,\n",
       "  'children': 0.0,\n",
       "  'smoker': 'yes',\n",
       "  'region': 'southwest',\n",
       "  'charges': 16884.924}]"
      ]
     },
     "execution_count": 29,
     "metadata": {},
     "output_type": "execute_result"
    }
   ],
   "source": [
    "import csv\n",
    "medical_insurance_data = []\n",
    "with open('insurance.csv', newline='') as csvfile:\n",
    "    reader = csv.DictReader(csvfile)\n",
    "    for row in reader:\n",
    "        fixed_row = { key:(float(value) if value[0].isnumeric() else value) for key, value in row.items() }\n",
    "        medical_insurance_data.append(fixed_row)\n",
    "dataset_size = len(medical_insurance_data)\n",
    "print('Dataset size = {}'.format(dataset_size))\n",
    "print('The records look like this one')\n",
    "medical_insurance_data[:1]"
   ]
  },
  {
   "cell_type": "markdown",
   "metadata": {},
   "source": [
    "### Common functions"
   ]
  },
  {
   "cell_type": "code",
   "execution_count": 34,
   "metadata": {},
   "outputs": [],
   "source": [
    "def get_average_for_column(column_name):\n",
    "    sum = 0\n",
    "    for record in medical_insurance_data:\n",
    "        sum += record[column_name]\n",
    "    return sum / dataset_size\n",
    "\n",
    "def get_binary_value_percentage(column_name, value):\n",
    "    count = 0\n",
    "    for record in medical_insurance_data:\n",
    "        if record[column_name] == value:\n",
    "            count += 1\n",
    "    return 100 * count / dataset_size\n"
   ]
  },
  {
   "cell_type": "markdown",
   "metadata": {},
   "source": [
    "### The smoker variable"
   ]
  },
  {
   "cell_type": "code",
   "execution_count": 36,
   "metadata": {},
   "outputs": [
    {
     "data": {
      "text/plain": [
       "'20.48% of the people in the dataset are smokers'"
      ]
     },
     "execution_count": 36,
     "metadata": {},
     "output_type": "execute_result"
    }
   ],
   "source": [
    "'{:.2f}% of the people in the dataset are smokers'.format(get_binary_value_percentage('smoker', 'yes'))"
   ]
  },
  {
   "cell_type": "markdown",
   "metadata": {},
   "source": [
    "### Smokers and age"
   ]
  },
  {
   "cell_type": "code",
   "execution_count": 33,
   "metadata": {},
   "outputs": [
    {
     "data": {
      "text/plain": [
       "'The average age in the dataset is 39.21'"
      ]
     },
     "execution_count": 33,
     "metadata": {},
     "output_type": "execute_result"
    }
   ],
   "source": [
    "'The average age in the dataset is {:.2f}'.format(get_average_for_column('age'))"
   ]
  },
  {
   "cell_type": "markdown",
   "metadata": {},
   "source": [
    "### Playground"
   ]
  },
  {
   "cell_type": "code",
   "execution_count": null,
   "metadata": {},
   "outputs": [],
   "source": [
    "print('11.2'.isdecimal())\n",
    "print('11.2'.isdigit())\n",
    "print('11.2'.isnumeric())\n",
    "float('11.2a', 0.0)\n"
   ]
  }
 ],
 "metadata": {
  "kernelspec": {
   "display_name": "Python 3",
   "language": "python",
   "name": "python3"
  },
  "language_info": {
   "codemirror_mode": {
    "name": "ipython",
    "version": 3
   },
   "file_extension": ".py",
   "mimetype": "text/x-python",
   "name": "python",
   "nbconvert_exporter": "python",
   "pygments_lexer": "ipython3",
   "version": "3.12.3"
  }
 },
 "nbformat": 4,
 "nbformat_minor": 4
}
